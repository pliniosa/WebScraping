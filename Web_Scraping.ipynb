{
  "nbformat": 4,
  "nbformat_minor": 0,
  "metadata": {
    "colab": {
      "name": "Web_Scraping.ipynb",
      "provenance": [],
      "authorship_tag": "ABX9TyOxIc5KBA+KGJjEG/AyocrY",
      "include_colab_link": true
    },
    "kernelspec": {
      "name": "python3",
      "display_name": "Python 3"
    },
    "language_info": {
      "name": "python"
    }
  },
  "cells": [
    {
      "cell_type": "markdown",
      "metadata": {
        "id": "view-in-github",
        "colab_type": "text"
      },
      "source": [
        "<a href=\"https://colab.research.google.com/github/pliniosa/WebScraping/blob/main/Web_Scraping.ipynb\" target=\"_parent\"><img src=\"https://colab.research.google.com/assets/colab-badge.svg\" alt=\"Open In Colab\"/></a>"
      ]
    },
    {
      "cell_type": "markdown",
      "source": [
        "# Treinando Web Scraping\n"
      ],
      "metadata": {
        "id": "p2-4Nv3HnhiP"
      }
    },
    {
      "cell_type": "code",
      "execution_count": null,
      "metadata": {
        "id": "ueQUQY9pl93U"
      },
      "outputs": [],
      "source": [
        "from IPython.display import clear_output\n",
        "\n",
        "!pip install --upgrade pip #atualiza o gestor de pacotes do Python\n",
        "\n",
        "clear_output(wait=True) #limpar a saída\n"
      ]
    },
    {
      "cell_type": "code",
      "source": [
        "import urllib.request # Importanto o pacote urlib\n",
        "from bs4 import BeautifulSoup # Importando o pacote Soup"
      ],
      "metadata": {
        "id": "u5jI-GCAom-i"
      },
      "execution_count": null,
      "outputs": []
    },
    {
      "cell_type": "code",
      "source": [
        "with urllib.request.urlopen('URL_DA_PAG/') as url:\n",
        "  page = url.read()"
      ],
      "metadata": {
        "id": "8kioRPrLqkyZ"
      },
      "execution_count": null,
      "outputs": []
    },
    {
      "cell_type": "markdown",
      "source": [
        "## Permições\n",
        "\n",
        "Verificar atraves do /robots.txt as permições de acesso da pag\n"
      ],
      "metadata": {
        "id": "4zKgSu030JNx"
      }
    },
    {
      "cell_type": "code",
      "source": [
        "\n",
        "with urllib.request.urlopen('URL_DA_PAG/robots.txt') as url2:\n",
        "  robots = url2.read()\n",
        "\n",
        "print(robots)"
      ],
      "metadata": {
        "id": "tn5nw-Ch0fYR"
      },
      "execution_count": null,
      "outputs": []
    },
    {
      "cell_type": "code",
      "source": [
        "#imprimindo o conteudo\n",
        "print(page)"
      ],
      "metadata": {
        "id": "a2J15omlrAHz"
      },
      "execution_count": null,
      "outputs": []
    },
    {
      "cell_type": "code",
      "source": [
        "soup = BeautifulSoup(page, \"html.parser\")"
      ],
      "metadata": {
        "id": "Q3y4jMa0rHcs"
      },
      "execution_count": null,
      "outputs": []
    },
    {
      "cell_type": "code",
      "source": [
        "soup.title"
      ],
      "metadata": {
        "id": "IiBApzIFrFK0"
      },
      "execution_count": null,
      "outputs": []
    },
    {
      "cell_type": "code",
      "source": [
        "soup.title.string"
      ],
      "metadata": {
        "id": "fBe9-_d9sN_n"
      },
      "execution_count": null,
      "outputs": []
    },
    {
      "cell_type": "code",
      "source": [
        "soup.a # Pegando o primeiro iper Link"
      ],
      "metadata": {
        "id": "HY8I8V2TsXCC"
      },
      "execution_count": null,
      "outputs": []
    },
    {
      "cell_type": "code",
      "source": [
        "soup.find_all(\"a\") #pegando todos os iper Links"
      ],
      "metadata": {
        "id": "q_YW99R2sY5V"
      },
      "execution_count": null,
      "outputs": []
    },
    {
      "cell_type": "code",
      "source": [
        "soup.div #pega a primeira div"
      ],
      "metadata": {
        "id": "fwOauEP7sup5"
      },
      "execution_count": null,
      "outputs": []
    },
    {
      "cell_type": "code",
      "source": [
        "soup.find_all(\"div\") # pega todos as divs"
      ],
      "metadata": {
        "id": "ULclJvmZszae"
      },
      "execution_count": null,
      "outputs": []
    },
    {
      "cell_type": "code",
      "source": [
        "soup.img"
      ],
      "metadata": {
        "id": "5EbKnvnzs16o"
      },
      "execution_count": null,
      "outputs": []
    },
    {
      "cell_type": "code",
      "source": [
        "soup.find_all('img')"
      ],
      "metadata": {
        "id": "_E_Hf2E8tTVu"
      },
      "execution_count": null,
      "outputs": []
    },
    {
      "cell_type": "code",
      "source": [
        "table = soup.find('table')"
      ],
      "metadata": {
        "id": "8k6nLYSStXMp"
      },
      "execution_count": null,
      "outputs": []
    },
    {
      "cell_type": "code",
      "source": [
        "print(table)"
      ],
      "metadata": {
        "id": "Y2CkTU7dthGo"
      },
      "execution_count": null,
      "outputs": []
    }
  ]
}